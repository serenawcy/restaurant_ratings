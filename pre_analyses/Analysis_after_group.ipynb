{
 "cells": [
  {
   "cell_type": "code",
   "execution_count": 2,
   "metadata": {
    "id": "PU2UDw_IyRqH"
   },
   "outputs": [],
   "source": [
    "import pandas as pd\n",
    "import numpy as np\n",
    "import seaborn as sns\n",
    "import matplotlib.pyplot as plt"
   ]
  },
  {
   "cell_type": "code",
   "execution_count": 6,
   "metadata": {
    "id": "YeaUnhqRyAUU"
   },
   "outputs": [],
   "source": [
    "rating_df = pd.read_csv(\"grouped_hygiene_df.csv\")"
   ]
  },
  {
   "cell_type": "code",
   "execution_count": 8,
   "metadata": {
    "colab": {
     "base_uri": "https://localhost:8080/"
    },
    "id": "9Ed75rT3PFtn",
    "outputId": "9a8bddfa-ba0c-409b-c596-a152725846b3"
   },
   "outputs": [],
   "source": [
    "restaurant_df = pd.read_csv(\"concat_restaurant_hygiene.csv\")"
   ]
  },
  {
   "cell_type": "code",
   "execution_count": 72,
   "metadata": {},
   "outputs": [],
   "source": [
    "date_df = pd.read_csv(\"grouped_date_df.csv\")"
   ]
  },
  {
   "cell_type": "code",
   "execution_count": 15,
   "metadata": {},
   "outputs": [],
   "source": [
    "df = pd.merge(rating_df, restaurant_df,  how='inner', left_on=['id'], right_on = ['id'])"
   ]
  },
  {
   "cell_type": "code",
   "execution_count": 30,
   "metadata": {
    "id": "maCESOgPD9oW"
   },
   "outputs": [],
   "source": [
    "# Rewrite Correlation\n",
    "\n",
    "hygiene_grades = df['GRADE'].copy()\n",
    "\n",
    "revised_grade = []\n",
    "for each in hygiene_grades:\n",
    "  if each == 'A':\n",
    "    revised_grade.append(0)\n",
    "  elif each == \"B\":\n",
    "    revised_grade.append(1)\n",
    "  elif each == \"C\":\n",
    "    revised_grade.append(2)\n",
    "  else:\n",
    "    revised_grade.append(3)\n"
   ]
  },
  {
   "cell_type": "code",
   "execution_count": 31,
   "metadata": {
    "colab": {
     "base_uri": "https://localhost:8080/"
    },
    "id": "gTYsvzpLEqZm",
    "outputId": "9c0078f9-5266-4bb5-e287-48d878973010"
   },
   "outputs": [
    {
     "name": "stdout",
     "output_type": "stream",
     "text": [
      "Correlation coefficient: -0.0490366172018718\n"
     ]
    }
   ],
   "source": [
    "df_corr = df.copy()\n",
    "df_corr[\"GRADE_R\"] = revised_grade\n",
    "\n",
    "correlation = df_corr[\"GRADE_R\"].corr(df_corr[\"rating_x\"])\n",
    "print(\"Correlation coefficient:\", correlation)"
   ]
  },
  {
   "cell_type": "code",
   "execution_count": null,
   "metadata": {},
   "outputs": [],
   "source": []
  },
  {
   "cell_type": "code",
   "execution_count": 80,
   "metadata": {},
   "outputs": [
    {
     "name": "stdout",
     "output_type": "stream",
     "text": [
      "t-statistic: -5.987636317977422\n",
      "p-value: 3.3023079393818453e-09\n"
     ]
    }
   ],
   "source": [
    "# Paired T-test\n",
    "from scipy.stats import ttest_rel\n",
    "t_statistic, p_value = ttest_rel(df2['rating_x'], df2['rating_y'])\n",
    "print('t-statistic:', t_statistic)\n",
    "print('p-value:', p_value)"
   ]
  },
  {
   "cell_type": "code",
   "execution_count": null,
   "metadata": {},
   "outputs": [],
   "source": []
  },
  {
   "cell_type": "code",
   "execution_count": null,
   "metadata": {},
   "outputs": [],
   "source": []
  },
  {
   "cell_type": "code",
   "execution_count": 82,
   "metadata": {},
   "outputs": [
    {
     "name": "stdout",
     "output_type": "stream",
     "text": [
      "Wilcoxon statistic: 108192.0\n",
      "p-value: 5.7908537956491535e-06\n"
     ]
    }
   ],
   "source": [
    "# Wilcoxon signed-rank test\n",
    "from scipy.stats import wilcoxon\n",
    "df2['difference'] = df2['rating_y'] - df2['rating_x']\n",
    "statistic, p_value = wilcoxon(df2['difference'])\n",
    "print('Wilcoxon statistic:', statistic)\n",
    "print('p-value:', p_value)"
   ]
  },
  {
   "cell_type": "code",
   "execution_count": null,
   "metadata": {},
   "outputs": [],
   "source": []
  }
 ],
 "metadata": {
  "colab": {
   "provenance": []
  },
  "kernelspec": {
   "display_name": "Python 3 (ipykernel)",
   "language": "python",
   "name": "python3"
  },
  "language_info": {
   "codemirror_mode": {
    "name": "ipython",
    "version": 3
   },
   "file_extension": ".py",
   "mimetype": "text/x-python",
   "name": "python",
   "nbconvert_exporter": "python",
   "pygments_lexer": "ipython3",
   "version": "3.9.13"
  }
 },
 "nbformat": 4,
 "nbformat_minor": 1
}
