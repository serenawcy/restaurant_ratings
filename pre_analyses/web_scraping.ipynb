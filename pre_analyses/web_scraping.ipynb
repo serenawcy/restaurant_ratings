{
  "cells": [
    {
      "cell_type": "code",
      "execution_count": 4,
      "id": "e3f9e323",
      "metadata": {
        "id": "e3f9e323"
      },
      "outputs": [],
      "source": [
        "import math\n",
        "import random\n",
        "import string\n",
        "import re \n",
        "from  collections import Counter\n",
        "import csv\n",
        "import pandas as pd\n",
        "import numpy as np\n",
        "import matplotlib.pyplot as plt\n",
        "import scipy.stats as sps\n",
        "from scipy.spatial.distance import cdist\n",
        "import statistics\n",
        "import scipy.stats as sps\n",
        "from sklearn.model_selection import train_test_split"
      ]
    },
    {
      "cell_type": "code",
      "execution_count": 5,
      "id": "e3d69552",
      "metadata": {
        "id": "e3d69552"
      },
      "outputs": [],
      "source": [
        "import warnings\n",
        "warnings.filterwarnings('ignore')"
      ]
    },
    {
      "cell_type": "code",
      "execution_count": 6,
      "id": "a54b1eb4",
      "metadata": {
        "id": "a54b1eb4"
      },
      "outputs": [],
      "source": [
        "import time"
      ]
    },
    {
      "cell_type": "code",
      "execution_count": 7,
      "id": "879c527e",
      "metadata": {
        "id": "879c527e"
      },
      "outputs": [],
      "source": [
        "import requests\n",
        "from bs4 import BeautifulSoup\n",
        "import re\n",
        "import numpy as np\n",
        "import pandas as pd\n",
        "import matplotlib.pyplot as plt\n",
        "import time"
      ]
    },
    {
      "cell_type": "code",
      "source": [
        "from google.colab import files\n",
        "uploaded = files.upload()"
      ],
      "metadata": {
        "colab": {
          "base_uri": "https://localhost:8080/",
          "height": 77
        },
        "id": "7IkcQ_oR4RcD",
        "outputId": "944374be-b18f-4e60-e4e4-83290e2d3462"
      },
      "id": "7IkcQ_oR4RcD",
      "execution_count": 2,
      "outputs": [
        {
          "output_type": "display_data",
          "data": {
            "text/plain": [
              "<IPython.core.display.HTML object>"
            ],
            "text/html": [
              "\n",
              "     <input type=\"file\" id=\"files-c0da5828-a1bc-4d34-80ac-07d0b7d4d304\" name=\"files[]\" multiple disabled\n",
              "        style=\"border:none\" />\n",
              "     <output id=\"result-c0da5828-a1bc-4d34-80ac-07d0b7d4d304\">\n",
              "      Upload widget is only available when the cell has been executed in the\n",
              "      current browser session. Please rerun this cell to enable.\n",
              "      </output>\n",
              "      <script>// Copyright 2017 Google LLC\n",
              "//\n",
              "// Licensed under the Apache License, Version 2.0 (the \"License\");\n",
              "// you may not use this file except in compliance with the License.\n",
              "// You may obtain a copy of the License at\n",
              "//\n",
              "//      http://www.apache.org/licenses/LICENSE-2.0\n",
              "//\n",
              "// Unless required by applicable law or agreed to in writing, software\n",
              "// distributed under the License is distributed on an \"AS IS\" BASIS,\n",
              "// WITHOUT WARRANTIES OR CONDITIONS OF ANY KIND, either express or implied.\n",
              "// See the License for the specific language governing permissions and\n",
              "// limitations under the License.\n",
              "\n",
              "/**\n",
              " * @fileoverview Helpers for google.colab Python module.\n",
              " */\n",
              "(function(scope) {\n",
              "function span(text, styleAttributes = {}) {\n",
              "  const element = document.createElement('span');\n",
              "  element.textContent = text;\n",
              "  for (const key of Object.keys(styleAttributes)) {\n",
              "    element.style[key] = styleAttributes[key];\n",
              "  }\n",
              "  return element;\n",
              "}\n",
              "\n",
              "// Max number of bytes which will be uploaded at a time.\n",
              "const MAX_PAYLOAD_SIZE = 100 * 1024;\n",
              "\n",
              "function _uploadFiles(inputId, outputId) {\n",
              "  const steps = uploadFilesStep(inputId, outputId);\n",
              "  const outputElement = document.getElementById(outputId);\n",
              "  // Cache steps on the outputElement to make it available for the next call\n",
              "  // to uploadFilesContinue from Python.\n",
              "  outputElement.steps = steps;\n",
              "\n",
              "  return _uploadFilesContinue(outputId);\n",
              "}\n",
              "\n",
              "// This is roughly an async generator (not supported in the browser yet),\n",
              "// where there are multiple asynchronous steps and the Python side is going\n",
              "// to poll for completion of each step.\n",
              "// This uses a Promise to block the python side on completion of each step,\n",
              "// then passes the result of the previous step as the input to the next step.\n",
              "function _uploadFilesContinue(outputId) {\n",
              "  const outputElement = document.getElementById(outputId);\n",
              "  const steps = outputElement.steps;\n",
              "\n",
              "  const next = steps.next(outputElement.lastPromiseValue);\n",
              "  return Promise.resolve(next.value.promise).then((value) => {\n",
              "    // Cache the last promise value to make it available to the next\n",
              "    // step of the generator.\n",
              "    outputElement.lastPromiseValue = value;\n",
              "    return next.value.response;\n",
              "  });\n",
              "}\n",
              "\n",
              "/**\n",
              " * Generator function which is called between each async step of the upload\n",
              " * process.\n",
              " * @param {string} inputId Element ID of the input file picker element.\n",
              " * @param {string} outputId Element ID of the output display.\n",
              " * @return {!Iterable<!Object>} Iterable of next steps.\n",
              " */\n",
              "function* uploadFilesStep(inputId, outputId) {\n",
              "  const inputElement = document.getElementById(inputId);\n",
              "  inputElement.disabled = false;\n",
              "\n",
              "  const outputElement = document.getElementById(outputId);\n",
              "  outputElement.innerHTML = '';\n",
              "\n",
              "  const pickedPromise = new Promise((resolve) => {\n",
              "    inputElement.addEventListener('change', (e) => {\n",
              "      resolve(e.target.files);\n",
              "    });\n",
              "  });\n",
              "\n",
              "  const cancel = document.createElement('button');\n",
              "  inputElement.parentElement.appendChild(cancel);\n",
              "  cancel.textContent = 'Cancel upload';\n",
              "  const cancelPromise = new Promise((resolve) => {\n",
              "    cancel.onclick = () => {\n",
              "      resolve(null);\n",
              "    };\n",
              "  });\n",
              "\n",
              "  // Wait for the user to pick the files.\n",
              "  const files = yield {\n",
              "    promise: Promise.race([pickedPromise, cancelPromise]),\n",
              "    response: {\n",
              "      action: 'starting',\n",
              "    }\n",
              "  };\n",
              "\n",
              "  cancel.remove();\n",
              "\n",
              "  // Disable the input element since further picks are not allowed.\n",
              "  inputElement.disabled = true;\n",
              "\n",
              "  if (!files) {\n",
              "    return {\n",
              "      response: {\n",
              "        action: 'complete',\n",
              "      }\n",
              "    };\n",
              "  }\n",
              "\n",
              "  for (const file of files) {\n",
              "    const li = document.createElement('li');\n",
              "    li.append(span(file.name, {fontWeight: 'bold'}));\n",
              "    li.append(span(\n",
              "        `(${file.type || 'n/a'}) - ${file.size} bytes, ` +\n",
              "        `last modified: ${\n",
              "            file.lastModifiedDate ? file.lastModifiedDate.toLocaleDateString() :\n",
              "                                    'n/a'} - `));\n",
              "    const percent = span('0% done');\n",
              "    li.appendChild(percent);\n",
              "\n",
              "    outputElement.appendChild(li);\n",
              "\n",
              "    const fileDataPromise = new Promise((resolve) => {\n",
              "      const reader = new FileReader();\n",
              "      reader.onload = (e) => {\n",
              "        resolve(e.target.result);\n",
              "      };\n",
              "      reader.readAsArrayBuffer(file);\n",
              "    });\n",
              "    // Wait for the data to be ready.\n",
              "    let fileData = yield {\n",
              "      promise: fileDataPromise,\n",
              "      response: {\n",
              "        action: 'continue',\n",
              "      }\n",
              "    };\n",
              "\n",
              "    // Use a chunked sending to avoid message size limits. See b/62115660.\n",
              "    let position = 0;\n",
              "    do {\n",
              "      const length = Math.min(fileData.byteLength - position, MAX_PAYLOAD_SIZE);\n",
              "      const chunk = new Uint8Array(fileData, position, length);\n",
              "      position += length;\n",
              "\n",
              "      const base64 = btoa(String.fromCharCode.apply(null, chunk));\n",
              "      yield {\n",
              "        response: {\n",
              "          action: 'append',\n",
              "          file: file.name,\n",
              "          data: base64,\n",
              "        },\n",
              "      };\n",
              "\n",
              "      let percentDone = fileData.byteLength === 0 ?\n",
              "          100 :\n",
              "          Math.round((position / fileData.byteLength) * 100);\n",
              "      percent.textContent = `${percentDone}% done`;\n",
              "\n",
              "    } while (position < fileData.byteLength);\n",
              "  }\n",
              "\n",
              "  // All done.\n",
              "  yield {\n",
              "    response: {\n",
              "      action: 'complete',\n",
              "    }\n",
              "  };\n",
              "}\n",
              "\n",
              "scope.google = scope.google || {};\n",
              "scope.google.colab = scope.google.colab || {};\n",
              "scope.google.colab._files = {\n",
              "  _uploadFiles,\n",
              "  _uploadFilesContinue,\n",
              "};\n",
              "})(self);\n",
              "</script> "
            ]
          },
          "metadata": {}
        },
        {
          "output_type": "stream",
          "name": "stdout",
          "text": [
            "Saving concat_restaurant_hygiene.csv to concat_restaurant_hygiene.csv\n"
          ]
        }
      ]
    },
    {
      "cell_type": "code",
      "execution_count": 8,
      "id": "7c0c5536",
      "metadata": {
        "id": "7c0c5536"
      },
      "outputs": [],
      "source": [
        "data = pd.read_csv(\"concat_restaurant_hygiene.csv\")"
      ]
    },
    {
      "cell_type": "code",
      "source": [
        "data.shape"
      ],
      "metadata": {
        "colab": {
          "base_uri": "https://localhost:8080/"
        },
        "id": "Nui24zokXZrd",
        "outputId": "3e69e611-fbda-4d0f-8a8f-653b402dd5ca"
      },
      "id": "Nui24zokXZrd",
      "execution_count": 19,
      "outputs": [
        {
          "output_type": "execute_result",
          "data": {
            "text/plain": [
              "(1946, 17)"
            ]
          },
          "metadata": {},
          "execution_count": 19
        }
      ]
    },
    {
      "cell_type": "markdown",
      "id": "82888aed",
      "metadata": {
        "id": "82888aed"
      },
      "source": [
        "# FIRST CYCLE"
      ]
    },
    {
      "cell_type": "markdown",
      "id": "1557465c",
      "metadata": {
        "id": "1557465c"
      },
      "source": [
        "## ** REPLACE NUMBER HERE **"
      ]
    },
    {
      "cell_type": "code",
      "execution_count": 20,
      "id": "18fd9015",
      "metadata": {
        "id": "18fd9015"
      },
      "outputs": [],
      "source": [
        "urls_set = data[\"url\"][600:900]\n",
        "index = 0"
      ]
    },
    {
      "cell_type": "code",
      "execution_count": 21,
      "id": "9120d51c",
      "metadata": {
        "id": "9120d51c"
      },
      "outputs": [],
      "source": [
        "# THIS IS THE RESULT\n",
        "df = pd.DataFrame(columns=[\"id\", \"time\", \"rating\", \"comment\"])"
      ]
    },
    {
      "cell_type": "code",
      "execution_count": 22,
      "id": "eb185e33",
      "metadata": {
        "id": "eb185e33"
      },
      "outputs": [],
      "source": [
        "start = time.time()\n",
        "for url in urls_set:\n",
        "    curr_id = data[\"id\"][index]\n",
        "    try: \n",
        "      response_page = requests.get(url+\"&start=10\")\n",
        "    \n",
        "      soup_page = BeautifulSoup(response_page.content, \"html.parser\")\n",
        "      body_page = soup_page.body\n",
        "      main_page = body_page.main\n",
        "      comment_section = main_page.find(\"div\", {\"id\":\"reviews\"})\n",
        "    except:\n",
        "      continue\n",
        "    \n",
        "    try:\n",
        "        comment_list = comment_section.find(\"ul\", {\"class\": \"undefined list__09f24__ynIEd\"})\n",
        "    except:\n",
        "        continue\n",
        "    \n",
        "    try:\n",
        "        comments = comment_section.find_all(\"li\")\n",
        "    except:\n",
        "        continue\n",
        "    \n",
        "    try:\n",
        "        comments = comments[5:]\n",
        "    except:\n",
        "        continue\n",
        "    \n",
        "    for curr_comment in comments:\n",
        "        try:\n",
        "            # Finding Time\n",
        "            curr_time = curr_comment.find(\"span\", {\"class\": \"css-chan6m\"}).text\n",
        "\n",
        "            # Find Rating\n",
        "            rating = curr_comment.find(\"div\", \\\n",
        "                              {\"class\": \\\n",
        "                               \"five-stars__09f24__mBKym\"})[\"aria-label\"]\n",
        "\n",
        "            # Find Comments\n",
        "            comment = curr_comment.find(\"span\", {\"class\": \"raw__09f24__T4Ezm\"}).text\n",
        "\n",
        "            curr_row = {'id': curr_id, 'time': curr_time, 'rating': rating, \"comment\": comment}\n",
        "            df = df.append(curr_row, ignore_index = True)\n",
        "        except:\n",
        "            break\n",
        "\n",
        "    index += 1\n",
        "\n",
        "end = time.time()"
      ]
    },
    {
      "cell_type": "code",
      "execution_count": 23,
      "id": "26363a45",
      "metadata": {
        "id": "26363a45",
        "colab": {
          "base_uri": "https://localhost:8080/"
        },
        "outputId": "b6025d7c-80ae-4fef-e5e3-e890f264d562"
      },
      "outputs": [
        {
          "output_type": "execute_result",
          "data": {
            "text/plain": [
              "1145.1151406764984"
            ]
          },
          "metadata": {},
          "execution_count": 23
        }
      ],
      "source": [
        "end - start"
      ]
    },
    {
      "cell_type": "markdown",
      "id": "5c6a76f7",
      "metadata": {
        "id": "5c6a76f7"
      },
      "source": [
        "# SECOND CYCLE"
      ]
    },
    {
      "cell_type": "code",
      "execution_count": 24,
      "id": "e563a36b",
      "metadata": {
        "id": "e563a36b"
      },
      "outputs": [],
      "source": [
        "urls_set = data[\"url\"][900:1200]\n",
        "index = 0"
      ]
    },
    {
      "cell_type": "code",
      "execution_count": 25,
      "id": "0e92754a",
      "metadata": {
        "id": "0e92754a"
      },
      "outputs": [],
      "source": [
        "# THIS IS THE RESULT\n",
        "df1 = pd.DataFrame(columns=[\"id\", \"time\", \"rating\", \"comment\"])"
      ]
    },
    {
      "cell_type": "code",
      "execution_count": 26,
      "id": "1399bb0e",
      "metadata": {
        "id": "1399bb0e"
      },
      "outputs": [],
      "source": [
        "start = time.time()\n",
        "for url in urls_set:\n",
        "    curr_id = data[\"id\"][index]\n",
        "\n",
        "    try:\n",
        "      response_page = requests.get(url+\"&start=10\")\n",
        "    \n",
        "      soup_page = BeautifulSoup(response_page.content, \"html.parser\")\n",
        "      body_page = soup_page.body\n",
        "      main_page = body_page.main\n",
        "      comment_section = main_page.find(\"div\", {\"id\":\"reviews\"})\n",
        "    except:\n",
        "      continue\n",
        "    \n",
        "    try:\n",
        "        comment_list = comment_section.find(\"ul\", {\"class\": \"undefined list__09f24__ynIEd\"})\n",
        "    except:\n",
        "        continue\n",
        "    \n",
        "    try:\n",
        "        comments = comment_section.find_all(\"li\")\n",
        "    except:\n",
        "        continue\n",
        "    \n",
        "    try:\n",
        "        comments = comments[5:]\n",
        "    except:\n",
        "        continue\n",
        "    \n",
        "    for curr_comment in comments:\n",
        "        try:\n",
        "            # Finding Time\n",
        "            curr_time = curr_comment.find(\"span\", {\"class\": \"css-chan6m\"}).text\n",
        "\n",
        "            # Find Rating\n",
        "            rating = curr_comment.find(\"div\", \\\n",
        "                              {\"class\": \\\n",
        "                               \"five-stars__09f24__mBKym\"})[\"aria-label\"]\n",
        "\n",
        "            # Find Comments\n",
        "            comment = curr_comment.find(\"span\", {\"class\": \"raw__09f24__T4Ezm\"}).text\n",
        "\n",
        "            curr_row = {'id': curr_id, 'time': curr_time, 'rating': rating, \"comment\": comment}\n",
        "            df1 = df1.append(curr_row, ignore_index = True)\n",
        "        except:\n",
        "            break\n",
        "\n",
        "    index += 1\n",
        "\n",
        "end = time.time()"
      ]
    },
    {
      "cell_type": "code",
      "execution_count": 27,
      "id": "4d52230a",
      "metadata": {
        "id": "4d52230a",
        "colab": {
          "base_uri": "https://localhost:8080/"
        },
        "outputId": "7bf4342a-e1fa-4cd6-e965-d19b80ff4d74"
      },
      "outputs": [
        {
          "output_type": "execute_result",
          "data": {
            "text/plain": [
              "1145.06880068779"
            ]
          },
          "metadata": {},
          "execution_count": 27
        }
      ],
      "source": [
        "end - start"
      ]
    },
    {
      "cell_type": "code",
      "source": [],
      "metadata": {
        "id": "IZifIJJND8S1"
      },
      "id": "IZifIJJND8S1",
      "execution_count": 27,
      "outputs": []
    },
    {
      "cell_type": "code",
      "source": [
        "df_together = [df, df1]\n",
        "result = pd.concat(df_together)\n",
        "# result.to_csv('customer_comments2_round2.csv')"
      ],
      "metadata": {
        "id": "Y6cAgVNg31TX"
      },
      "id": "Y6cAgVNg31TX",
      "execution_count": 28,
      "outputs": []
    },
    {
      "cell_type": "code",
      "source": [
        "from google.colab import files\n",
        "result.to_csv('customer_comments2_round2.csv') \n",
        "files.download('customer_comments2_round2.csv')"
      ],
      "metadata": {
        "id": "iUgInBmeDaYm",
        "colab": {
          "base_uri": "https://localhost:8080/",
          "height": 17
        },
        "outputId": "93e46096-6107-496a-9ef3-49dd922bd359"
      },
      "id": "iUgInBmeDaYm",
      "execution_count": 29,
      "outputs": [
        {
          "output_type": "display_data",
          "data": {
            "text/plain": [
              "<IPython.core.display.Javascript object>"
            ],
            "application/javascript": [
              "\n",
              "    async function download(id, filename, size) {\n",
              "      if (!google.colab.kernel.accessAllowed) {\n",
              "        return;\n",
              "      }\n",
              "      const div = document.createElement('div');\n",
              "      const label = document.createElement('label');\n",
              "      label.textContent = `Downloading \"${filename}\": `;\n",
              "      div.appendChild(label);\n",
              "      const progress = document.createElement('progress');\n",
              "      progress.max = size;\n",
              "      div.appendChild(progress);\n",
              "      document.body.appendChild(div);\n",
              "\n",
              "      const buffers = [];\n",
              "      let downloaded = 0;\n",
              "\n",
              "      const channel = await google.colab.kernel.comms.open(id);\n",
              "      // Send a message to notify the kernel that we're ready.\n",
              "      channel.send({})\n",
              "\n",
              "      for await (const message of channel.messages) {\n",
              "        // Send a message to notify the kernel that we're ready.\n",
              "        channel.send({})\n",
              "        if (message.buffers) {\n",
              "          for (const buffer of message.buffers) {\n",
              "            buffers.push(buffer);\n",
              "            downloaded += buffer.byteLength;\n",
              "            progress.value = downloaded;\n",
              "          }\n",
              "        }\n",
              "      }\n",
              "      const blob = new Blob(buffers, {type: 'application/binary'});\n",
              "      const a = document.createElement('a');\n",
              "      a.href = window.URL.createObjectURL(blob);\n",
              "      a.download = filename;\n",
              "      div.appendChild(a);\n",
              "      a.click();\n",
              "      div.remove();\n",
              "    }\n",
              "  "
            ]
          },
          "metadata": {}
        },
        {
          "output_type": "display_data",
          "data": {
            "text/plain": [
              "<IPython.core.display.Javascript object>"
            ],
            "application/javascript": [
              "download(\"download_796370f8-7614-499e-972f-c286029092a5\", \"customer_comments2_round2.csv\", 3080173)"
            ]
          },
          "metadata": {}
        }
      ]
    }
  ],
  "metadata": {
    "kernelspec": {
      "display_name": "Python 3 (ipykernel)",
      "language": "python",
      "name": "python3"
    },
    "language_info": {
      "codemirror_mode": {
        "name": "ipython",
        "version": 3
      },
      "file_extension": ".py",
      "mimetype": "text/x-python",
      "name": "python",
      "nbconvert_exporter": "python",
      "pygments_lexer": "ipython3",
      "version": "3.9.7"
    },
    "colab": {
      "provenance": []
    }
  },
  "nbformat": 4,
  "nbformat_minor": 5
}